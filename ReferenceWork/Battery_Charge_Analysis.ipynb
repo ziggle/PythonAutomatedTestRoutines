{
 "cells": [
  {
   "cell_type": "code",
   "execution_count": 1,
   "metadata": {},
   "outputs": [
    {
     "data": {
      "text/html": [
       "<style>\n",
       ".int {\n",
       "    padding:10px 0px 0px 30px;\n",
       "}\n",
       "dd {\n",
       "    margin: 0px 0px 15px 0px;\n",
       "}\n",
       "dt {\n",
       "   color:blue;\n",
       "}\n",
       "</style>\n"
      ],
      "text/plain": [
       "<IPython.core.display.HTML object>"
      ]
     },
     "metadata": {},
     "output_type": "display_data"
    }
   ],
   "source": [
    "%%html\n",
    "<style>\n",
    ".int {\n",
    "    padding:10px 0px 0px 30px;\n",
    "}\n",
    "dd {\n",
    "    margin: 0px 0px 15px 0px;\n",
    "}\n",
    "dt {\n",
    "   color:blue;\n",
    "}\n",
    "</style>"
   ]
  },
  {
   "cell_type": "code",
   "execution_count": 8,
   "metadata": {},
   "outputs": [
    {
     "data": {
      "text/plain": [
       "'C:\\\\Users\\\\biegertm\\\\Documents'"
      ]
     },
     "execution_count": 8,
     "metadata": {},
     "output_type": "execute_result"
    }
   ],
   "source": [
    "pwd"
   ]
  },
  {
   "cell_type": "markdown",
   "metadata": {},
   "source": [
    "# Overview\n",
    "This notebook provides a quick-look analysis of the charging profile of Genesis charger's internal battery. This is not a general purpose notebook. It is intended to be customized for each battery to be tested.\n",
    "\n",
    "# Background\n",
    "\n",
    "## Definitions\n",
    "<br/>\n",
    "<dl>\n",
    "    <dt>Capacity (<i>C</i>)</dt>\n",
    "    <dd>The amount of charge available from a cell when discharged over a 20 hour period.</dd>\n",
    "    <dt>Termination Current (<i>I<sub>Term</sub></i>)</dt>\n",
    "    <dd>The current at which charging is terminated during the CV phase. It normally is set at a low value, like 0.05 C.</dd>\n",
    "    <dt>Transistion Voltage (<i>V<sub>Transition</sub></i>)</dt>\n",
    "    <dd>The cell voltage at which the charging algorithm switches from CC to CV. It typically is in the range of 4.1 V to 4.2 V.</dd>\n",
    "    <dt>Normalized Current (<i>i<sub>N</sub></i>)</dt>\n",
    "    <dd>The ratio of discharge current to battery capacity, which we can express as\n",
    "         <div class=\"int\">\n",
    "        $\n",
    "        \\begin{align}\n",
    "            i_N\\triangleq\\frac{i}{C}\n",
    "         \\end{align}\n",
    "        $\n",
    "        </div>\n",
    "    </dd>\n",
    "    <dt>Constant Current Phase (CC)</dt>\n",
    "    <dd>For cell voltages < <i>V<sub>Transition</sub></i>, the battery is charged from a current source. The current source is usually set to a <i>i<sub>N</sub></i> = 0.1 C to 0.3 C.</dd>\n",
    "    <dt>Constant Voltage Phase (CV)</dt>\n",
    "    <dd>When the CC phase voltage reaches <i>V<sub>Transition</sub></i>, the cell voltage is then held at <i>V<sub>Transition</sub></i> and charging is continued until the charging current drops to <i>I<sub>Term</sub></i>. </dd>\n",
    "</dl>\n",
    "\n",
    "## Charging Algorithm\n",
    "\n",
    "### General Information\n",
    "\n",
    "* Genesis charger internal battery: <i>C</i> = 500 mAh.\n",
    "\n",
    "### CC Phase\n",
    "\n",
    "* Used for 3.0 V &leq; <i>V<sub>Cell</sub></i> &leq; 4.1 V.\n",
    "* <i>I<sub>Charge</sub></i> = 247 mA, which is ~0.5 C.\n",
    "\n",
    "### CV Phase\n",
    "\n",
    "* <i>V<sub>Cell</sub></i> = 4.1 V.\n",
    "* Continue charging while <i>I<sub>Charge</sub></i> &GreaterEqual; 24.7 mA, which is ~0.05 C.\n",
    "* Charging is terminated when <i>I<sub>Charge</sub></i> = 24.7 mA.\n"
   ]
  },
  {
   "cell_type": "markdown",
   "metadata": {},
   "source": [
    "## Analysis Setup\n",
    "\n",
    "Except for graphics, I stuck with standard Python libraries. For graphics, I decided to plot using Seaborn, which is a nice upgrade to the Python standard Matplotlib. Note that Seaborn is based on Matplotlib."
   ]
  },
  {
   "cell_type": "code",
   "execution_count": 2,
   "metadata": {},
   "outputs": [],
   "source": [
    "import pandas as pd\n",
    "import numpy as np\n",
    "import matplotlib.pyplot as plt\n",
    "import matplotlib.dates as mdates\n",
    "from matplotlib.dates import DateFormatter\n",
    "from matplotlib.ticker import (AutoMinorLocator, MultipleLocator)\n",
    "from matplotlib.dates import HourLocator, MonthLocator, YearLocator\n",
    "import seaborn as sns"
   ]
  },
  {
   "cell_type": "markdown",
   "metadata": {},
   "source": [
    "## Constant Current Phase Data\n",
    "I wrote a Python script to charge Genesis internal battery, which is a 500 mAh battery. John Etherington defined the charge characteristics, so this routine simply evaluates the battery performance using this charge algorithm."
   ]
  },
  {
   "cell_type": "code",
   "execution_count": 3,
   "metadata": {},
   "outputs": [
    {
     "data": {
      "image/png": "[encoded data removed]",
      "text/plain": [
       "<Figure size 720x432 with 1 Axes>"
      ]
     },
     "metadata": {},
     "output_type": "display_data"
    }
   ],
   "source": [
    "#  Import the CC Data\n",
    "\n",
    "# Pull in the data file. Note that the file has a header, which the routine uses unmodified.\n",
    "dfCC = pd.read_csv(\"CC_Charge_.csv\")\n",
    "dfCC['time'] = pd.to_datetime(dfCC['time'])\n",
    "zeroTime = dfCC[\"time\"].min()\n",
    "dfCC.time = dfCC.time-zeroTime # Zero the time access to make more readable.\n",
    "dfCC.time = dfCC.time/np.timedelta64(1, 'h')\n",
    "\n",
    "# Graph the data\n",
    "sns.set(font_scale=1.0, style=\"whitegrid\")\n",
    "fig, ax = plt.subplots(figsize=(10,6))\n",
    "ax.plot(dfCC.time,dfCC.voltage, color='r',marker = 'o', linestyle ='--')\n",
    "ax.set_xlabel('Time (h)')\n",
    "ax.set_ylabel('vBAT (V)')\n",
    "ax.set_title('Constant Current Phase: Voltage vs Time')\n",
    "plt.show()\n"
   ]
  },
  {
   "cell_type": "markdown",
   "metadata": {},
   "source": [
    "## Constant Voltage Phase Data"
   ]
  },
  {
   "cell_type": "code",
   "execution_count": 4,
   "metadata": {
    "scrolled": true
   },
   "outputs": [
    {
     "data": {
      "image/png": "[encoded data removed]",
      "text/plain": [
       "<Figure size 720x432 with 1 Axes>"
      ]
     },
     "metadata": {},
     "output_type": "display_data"
    }
   ],
   "source": [
    "dfCV = pd.read_csv(\"CV_Bat_Current.csv\", header=0)\n",
    "dfCV.current = dfCV.current*1000\n",
    "dfCV.time = pd.to_datetime(dfCV.time)\n",
    "zeroTime = dfCV.time.min()\n",
    "dfCV.time = dfCV.time-zeroTime\n",
    "dfCV.time = dfCV.time/np.timedelta64(1, 'h')\n",
    "\n",
    "sns.set(font_scale=1.0, style=\"whitegrid\")\n",
    "fig, ax = plt.subplots(figsize=(10,6))\n",
    "ax.plot(dfCV.time,dfCV.current, color='r',marker = 'o', linestyle ='--')\n",
    "ax.set_xlabel('Time (h)')\n",
    "ax.set_ylabel('iBAT (mA)')\n",
    "ax.set_title('Constant Voltage Phase: Current vs Time')\n",
    "plt.show()"
   ]
  },
  {
   "cell_type": "markdown",
   "metadata": {},
   "source": [
    "# Analysis\n",
    "\n",
    "This section converts the charge characteristics to state-of-charge values.\n",
    "\n",
    "## Total Charge Transferred During Charging"
   ]
  },
  {
   "cell_type": "code",
   "execution_count": 5,
   "metadata": {},
   "outputs": [
    {
     "name": "stdout",
     "output_type": "stream",
     "text": [
      "\n",
      "\n",
      " **************** CC Phase Tail ****************\n",
      "\n",
      "         time   voltage\n",
      "171  1.431113  4.133857\n",
      "172  1.439484  4.138650\n",
      "173  1.447853  4.143541\n",
      "174  1.456220  4.148428\n",
      "175  1.464587  4.153299\n",
      "\n",
      "\n",
      " **************** CC Termination Time ****************\n",
      "\n",
      "   CC Phase Termination Time: 1.37 hours\n",
      "\n",
      "\n",
      " **************** CC Metrics ****************\n",
      "\n",
      "   Charge transferred during CC is 338.74 mAh\n",
      "   Charge transferred during CV is 93.96 mAh\n",
      "   Total charge transferred is 432.70 mAh\n",
      "   Percentage Transferred During CC is 78.29%\n"
     ]
    }
   ],
   "source": [
    "from scipy.interpolate import interp1d\n",
    "from scipy.interpolate import InterpolatedUnivariateSpline\n",
    "print(\"\\n\\n **************** CC Phase Tail ****************\\n\")\n",
    "print(dfCC.tail())\n",
    "\n",
    "# Charge transferred during the CC phase\n",
    "\n",
    "interpolate_x = 4.1\n",
    "y_interp = interp1d(dfCC['voltage'], dfCC['time']) # Create interpolation object\n",
    "Q_CC = y_interp(interpolate_x)*247\n",
    "\n",
    "print(\"\\n\\n **************** CC Termination Time ****************\\n\")\n",
    "print(\"   CC Phase Termination Time: {:.2f} hours\".format(y_interp(interpolate_x)))\n",
    "\n",
    "# Charge transferred during the CV phase\n",
    "\n",
    "interpolate_x = 24.7\n",
    "y_interp = interp1d(dfCV.current, dfCV.time) # Create interpolation object\n",
    "t_end = y_interp(interpolate_x)\n",
    "f = InterpolatedUnivariateSpline(dfCV.time, dfCV.current, k=1)\n",
    "Q_CV = f.integral(0,t_end)\n",
    "Q_T = Q_CC+Q_CV\n",
    "print(\"\\n\\n **************** CC Metrics ****************\\n\")\n",
    "print(\"   Charge transferred during CC is {:.2f} mAh\".format(Q_CC))\n",
    "print(\"   Charge transferred during CV is {:.2f} mAh\".format(Q_CV))\n",
    "print(\"   Total charge transferred is {:.2f} mAh\".format(Q_T))\n",
    "print(\"   Percentage Transferred During CC is {:.2%}\".format(Q_CC/(Q_CC+Q_CV)))"
   ]
  },
  {
   "cell_type": "markdown",
   "metadata": {},
   "source": [
    "## SOC Generation\n",
    "\n",
    "Because the charge current is constant, integration vs time is simply multiplying the time by charge current. Note that SOC vs <i>V<sub>Cell</sub></i> only makes sense for <i>V<sub>Cell</sub></i> < 4.1 V. At 4.1 V, <i>V<sub>Cell</sub></i> is held constant and no longer conveys SOC information. Charging at this point is controlled by the HA's HPM10."
   ]
  },
  {
   "cell_type": "code",
   "execution_count": 6,
   "metadata": {
    "scrolled": true
   },
   "outputs": [
    {
     "data": {
      "image/png": "[encoded data removed]",
      "text/plain": [
       "<Figure size 720x432 with 1 Axes>"
      ]
     },
     "metadata": {},
     "output_type": "display_data"
    }
   ],
   "source": [
    "dfCC['SOC'] = dfCC['time']*247/Q_T\n",
    "# Graph the data\n",
    "import matplotlib.ticker as mtick\n",
    "sns.set(font_scale=1.0, style=\"whitegrid\")\n",
    "fig, ax = plt.subplots(figsize=(10,6))\n",
    "ax.plot(dfCC['voltage'], dfCC['SOC']*100, color='r',marker = None, linestyle ='-')\n",
    "ax.yaxis.set_major_formatter(mtick.PercentFormatter())\n",
    "ax.yaxis.set_major_locator(MultipleLocator(10))\n",
    "ax.yaxis.set_minor_locator(MultipleLocator(5))\n",
    "ax.xaxis.set_major_locator(MultipleLocator(0.1))\n",
    "ax.xaxis.set_minor_locator(MultipleLocator(0.05))\n",
    "ax.tick_params(axis='x', which='minor', bottom=True)\n",
    "ax.tick_params(axis='y', which='minor', left=True)\n",
    "ax.grid(b=True, which='minor', color='grey', linewidth=0.35)\n",
    "ax.grid(b=True, which='major', color='black', linewidth=0.5)\n",
    "ax.yaxis.set_major_formatter(mtick.PercentFormatter())\n",
    "ax.set_xlabel('vBAT(V)')\n",
    "ax.set_ylabel('SOC (%)')\n",
    "ax.set_title('Constant Current Phase: SOC (%) vs vBAT (V)')\n",
    "plt.show()"
   ]
  },
  {
   "cell_type": "code",
   "execution_count": 7,
   "metadata": {},
   "outputs": [
    {
     "data": {
      "text/html": [
       "<div>\n",
       "<style scoped>\n",
       "    .dataframe tbody tr th:only-of-type {\n",
       "        vertical-align: middle;\n",
       "    }\n",
       "\n",
       "    .dataframe tbody tr th {\n",
       "        vertical-align: top;\n",
       "    }\n",
       "\n",
       "    .dataframe thead th {\n",
       "        text-align: right;\n",
       "    }\n",
       "</style>\n",
       "<table border=\"1\" class=\"dataframe\">\n",
       "  <thead>\n",
       "    <tr style=\"text-align: right;\">\n",
       "      <th></th>\n",
       "      <th>time</th>\n",
       "      <th>voltage</th>\n",
       "      <th>SOC</th>\n",
       "    </tr>\n",
       "  </thead>\n",
       "  <tbody>\n",
       "    <tr>\n",
       "      <th>0</th>\n",
       "      <td>0.000000</td>\n",
       "      <td>3.462523</td>\n",
       "      <td>0.000000</td>\n",
       "    </tr>\n",
       "    <tr>\n",
       "      <th>1</th>\n",
       "      <td>0.008370</td>\n",
       "      <td>3.620406</td>\n",
       "      <td>0.004778</td>\n",
       "    </tr>\n",
       "    <tr>\n",
       "      <th>2</th>\n",
       "      <td>0.016745</td>\n",
       "      <td>3.651968</td>\n",
       "      <td>0.009559</td>\n",
       "    </tr>\n",
       "    <tr>\n",
       "      <th>3</th>\n",
       "      <td>0.025116</td>\n",
       "      <td>3.669858</td>\n",
       "      <td>0.014337</td>\n",
       "    </tr>\n",
       "    <tr>\n",
       "      <th>4</th>\n",
       "      <td>0.033490</td>\n",
       "      <td>3.680890</td>\n",
       "      <td>0.019118</td>\n",
       "    </tr>\n",
       "  </tbody>\n",
       "</table>\n",
       "</div>"
      ],
      "text/plain": [
       "       time   voltage       SOC\n",
       "0  0.000000  3.462523  0.000000\n",
       "1  0.008370  3.620406  0.004778\n",
       "2  0.016745  3.651968  0.009559\n",
       "3  0.025116  3.669858  0.014337\n",
       "4  0.033490  3.680890  0.019118"
      ]
     },
     "execution_count": 7,
     "metadata": {},
     "output_type": "execute_result"
    }
   ],
   "source": [
    "#val = float(input(\"discharge capacity?\"))\n",
    "#print(f'Estimated charging efficiency: {val/Q_T:0.2%}')\n",
    "dfCC.head()"
   ]
  },
  {
   "cell_type": "code",
   "execution_count": 31,
   "metadata": {},
   "outputs": [],
   "source": [
    "from scipy import interpolate\n",
    "y = np.linspace(0, 80, num=81, endpoint=True)/100\n",
    "iObject = interpolate.interp1d(dfCC.SOC,dfCC.voltage)\n",
    "SOCnew = iObject(y)\n",
    "lookup = pd.DataFrame({'SOC':y*100, 'voltage':SOCnew})\n",
    "lookup.head()\n",
    "lookup.tail()\n",
    "lookup.to_csv('SOC_4_10.csv', index=False)"
   ]
  }
 ],
 "metadata": {
  "kernelspec": {
   "display_name": "Python 3 (ipykernel)",
   "language": "python",
   "name": "python3"
  },
  "language_info": {
   "codemirror_mode": {
    "name": "ipython",
    "version": 3
   },
   "file_extension": ".py",
   "mimetype": "text/x-python",
   "name": "python",
   "nbconvert_exporter": "python",
   "pygments_lexer": "ipython3",
   "version": "3.9.12"
  }
 },
 "nbformat": 4,
 "nbformat_minor": 4
}
